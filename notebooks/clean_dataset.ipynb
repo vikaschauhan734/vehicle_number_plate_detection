{
 "cells": [
  {
   "cell_type": "code",
   "execution_count": 1,
   "metadata": {},
   "outputs": [],
   "source": [
    "import xmltodict\n",
    "import os"
   ]
  },
  {
   "cell_type": "code",
   "execution_count": 2,
   "metadata": {},
   "outputs": [],
   "source": [
    "annotations = os.listdir('D:/projects/vehicle_number_plate_detection/dataset/annotations')\n",
    "images = os.listdir('D:/projects/vehicle_number_plate_detection/dataset/images')"
   ]
  },
  {
   "cell_type": "code",
   "execution_count": 3,
   "metadata": {},
   "outputs": [],
   "source": [
    "def yolo_format(dict):\n",
    "    image_width = int(dict['annotation']['size']['width'])\n",
    "    image_height = int(dict['annotation']['size']['height'])\n",
    "    xmin = int(dict['annotation']['object']['bndbox']['xmin'])\n",
    "    ymin = int(dict['annotation']['object']['bndbox']['ymin'])\n",
    "    xmax = int(dict['annotation']['object']['bndbox']['xmax'])\n",
    "    ymax = int(dict['annotation']['object']['bndbox']['ymax'])\n",
    "    bb_width = xmax - xmin\n",
    "    bb_height = ymax - ymin\n",
    "    center_x = xmin + (bb_width / 2)\n",
    "    center_y = ymin + (bb_height / 2)\n",
    "    return center_x/image_width, center_y/image_height, bb_width/image_width, bb_height/image_height"
   ]
  },
  {
   "cell_type": "code",
   "execution_count": 4,
   "metadata": {},
   "outputs": [],
   "source": [
    "for i in range(len(annotations)):\n",
    "    with open('D:/projects/vehicle_number_plate_detection/dataset/annotations/'+annotations[i]) as file:\n",
    "        xml_content = file.read()\n",
    "    xml_dict = xmltodict.parse(xml_content)\n",
    "    c_x, c_y, b_w, b_h = yolo_format(xml_dict)\n",
    "    with open('D:/projects/vehicle_number_plate_detection/dataset/annotations/'+annotations[i][:-4]+'.txt','w') as file:\n",
    "        file.write(\"0 \"+str(c_x)+\" \"+str(c_y)+\" \"+str(b_w)+\" \"+str(b_h))"
   ]
  }
 ],
 "metadata": {
  "kernelspec": {
   "display_name": ".venv",
   "language": "python",
   "name": "python3"
  },
  "language_info": {
   "codemirror_mode": {
    "name": "ipython",
    "version": 3
   },
   "file_extension": ".py",
   "mimetype": "text/x-python",
   "name": "python",
   "nbconvert_exporter": "python",
   "pygments_lexer": "ipython3",
   "version": "3.11.5"
  }
 },
 "nbformat": 4,
 "nbformat_minor": 2
}
